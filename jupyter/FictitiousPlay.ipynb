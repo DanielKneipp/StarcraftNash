{
 "cells": [
  {
   "cell_type": "code",
   "execution_count": 16,
   "metadata": {
    "collapsed": true
   },
   "outputs": [],
   "source": [
    "import numpy as np\n",
    "\n",
    "class FictitiousPlay(object):\n",
    "    def __init__(self, best_responses, initial_belief):\n",
    "        \"\"\"\n",
    "        Initializes with an array of best responses and the initial belief (counts of opponent moves)\n",
    "        \"\"\"\n",
    "        self.belief = initial_belief\n",
    "        self.best_responses = best_responses\n",
    "        \n",
    "        \n",
    "    def act(self):\n",
    "        \"\"\"\n",
    "        Calculates the frequencies of each opponent choice and returns the best response\n",
    "        \"\"\"\n",
    "        sum_choices = sum(self.belief)\n",
    "        freqs = np.array( [count / sum_choices for count in self.belief] )\n",
    "        \n",
    "        # most frequent is argmax with ties broken randomly\n",
    "        #prediction = np.random.choice(np.flatnonzero(freqs == freqs.max()))\n",
    "        prediction = np.argmax(freqs)\n",
    "        \n",
    "        # returns the best response\n",
    "        return self.best_responses[prediction]\n",
    "    \n",
    "    def learn(self, opp_choice):\n",
    "        \"\"\"\n",
    "        Updates belief, based on opponent's last choice\n",
    "        \"\"\"\n",
    "        self.belief[opp_choice] += 1"
   ]
  },
  {
   "cell_type": "code",
   "execution_count": 19,
   "metadata": {
    "collapsed": false
   },
   "outputs": [
    {
     "name": "stdout",
     "output_type": "stream",
     "text": [
      "0.197 0.548 0.255\n",
      "0.747 0.347 0.906\n"
     ]
    }
   ],
   "source": [
    "name_to_move = {'r': 0, 'p': 1, 's': 2}\n",
    "move_to_name = {value: key for key, value in name_to_move.items()}\n",
    "\n",
    "rps = [\n",
    "    [0, -1, 1], #R vs R, P, S\n",
    "    [1, 0, -1], #P vs R, P, S\n",
    "    [-1, 1, 0]  #S vs R, P, S\n",
    "]\n",
    "\n",
    "# returns the indexes of RPS matrix that defeat the move on the array's own index\n",
    "best_responses = [1, 2, 0] \n",
    "\n",
    "def play_rps(move1, move2):\n",
    "    return rps[move1][move2]\n",
    "\n",
    "\n",
    "fp1 = FictitiousPlay(best_responses, [1, 0, 0])\n",
    "fp2 = FictitiousPlay(best_responses, [1, 0, 0])\n",
    "\n",
    "# counts players' choices\n",
    "counts_p1 = np.zeros(3)\n",
    "counts_p2 = np.zeros(3)\n",
    "\n",
    "\n",
    "trials = 1000\n",
    "\n",
    "for i in range(trials):\n",
    "    # retrieves an action\n",
    "    move1, move2 = fp1.act(), fp2.act()\n",
    "    \n",
    "    #updates counts\n",
    "    counts_p1[move1] += 1\n",
    "    counts_p2[move2] += 2\n",
    "    \n",
    "    #shows the moves\n",
    "    #print(move_to_name[move1], move_to_name[move2])\n",
    "    \n",
    "    # updates beliefs\n",
    "    fp1.learn(move2)\n",
    "    fp2.learn(move1)\n",
    "    \n",
    "# shows final counts\n",
    "print(' '.join(['%.3f' % (v / trials) for v in counts_p1]))\n",
    "print(' '.join(['%.3f' % (v / trials) for v in counts_p2]))\n",
    "#print('%.3f %.3f %.3f% // %.3f %.3f %.3f', ())\n",
    "    "
   ]
  },
  {
   "cell_type": "code",
   "execution_count": null,
   "metadata": {
    "collapsed": true
   },
   "outputs": [],
   "source": []
  }
 ],
 "metadata": {
  "kernelspec": {
   "display_name": "Python 3",
   "language": "python",
   "name": "python3"
  },
  "language_info": {
   "codemirror_mode": {
    "name": "ipython",
    "version": 3
   },
   "file_extension": ".py",
   "mimetype": "text/x-python",
   "name": "python",
   "nbconvert_exporter": "python",
   "pygments_lexer": "ipython3",
   "version": "3.5.2"
  }
 },
 "nbformat": 4,
 "nbformat_minor": 2
}
