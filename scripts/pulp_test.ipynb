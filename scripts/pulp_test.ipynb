{
 "cells": [
  {
   "cell_type": "code",
   "execution_count": 48,
   "metadata": {
    "collapsed": false,
    "deletable": true,
    "editable": true
   },
   "outputs": [
    {
     "name": "stdout",
     "output_type": "stream",
     "text": [
      "x = 4.0\n",
      "y = -1.0\n",
      "z = 6.0\n",
      "objective= 54.0\n"
     ]
    }
   ],
   "source": [
    "# example from https://pypi.python.org/pypi/PuLP/1.1\n",
    "\n",
    "# requires PuLP, which requires a LP solver, which can be GLPK.\n",
    "# to install GLPK: sudo apt-get install glpk-utils libglpk-dev glpk-doc python-glpk\n",
    "# PuLP is installed via pip: sudo pip install pulp\n",
    "# after installing PuLP, run sudo pulptest\n",
    "\n",
    "from pulp import *\n",
    "\n",
    "prob = LpProblem(\"test1\", LpMinimize) \n",
    "\n",
    "# Variables\n",
    "x = LpVariable(\"x\", 0, 4)\n",
    "y = LpVariable(\"y\", -1, 1)\n",
    "z = LpVariable(\"z\", 0) \n",
    "\n",
    "# Objective\n",
    "prob += x + 4*y + 9*z\n",
    "\n",
    "# Constraints\n",
    "prob += x+y <= 5\n",
    "prob += x+z >= 10\n",
    "prob += -y+z == 7\n",
    "\n",
    "GLPK().solve(prob)\n",
    "\n",
    "# Solution\n",
    "for v in prob.variables():\n",
    "    print(v.name, \"=\", v.varValue)\n",
    "\n",
    "print(\"objective=\", value(prob.objective))\n"
   ]
  },
  {
   "cell_type": "code",
   "execution_count": 49,
   "metadata": {
    "collapsed": false,
    "deletable": true,
    "editable": true
   },
   "outputs": [
    {
     "name": "stdout",
     "output_type": "stream",
     "text": [
      "p = 0.333333\n",
      "r = 0.333333\n",
      "s = 0.333333\n",
      "v = 0.0\n",
      "objective= 0.0\n"
     ]
    }
   ],
   "source": [
    "# now for rock, paper, scissors\n",
    "\n",
    "from pulp import *\n",
    "\n",
    "prob = LpProblem(\"RPS\", LpMaximize) \n",
    "\n",
    "# Variables\n",
    "# r, p, and s are the probabilities of playing rock, paper and scissors, respectively\n",
    "# v is the value of the game\n",
    "r = LpVariable(\"r\", 0, 1)\n",
    "p = LpVariable(\"p\", 0, 1)\n",
    "s = LpVariable(\"s\", 0, 1)\n",
    "v = LpVariable(\"v\", -1, 1)\n",
    "\n",
    "# Objective: maximize the value obtained\n",
    "prob += v\n",
    "\n",
    "# Constraints: defined via RPS matrix:\n",
    "'''\n",
    "   R  P  S\n",
    "r  0 -1  1\n",
    "p  1  0 -1\n",
    "s -1  1  0\n",
    "'''\n",
    "prob +=  p - s == v\n",
    "prob += -r + s == v\n",
    "prob +=  r - p == v\n",
    "prob += r + p + s == 1\n",
    "\n",
    "GLPK().solve(prob)\n",
    "\n",
    "# Solution\n",
    "for var in prob.variables():\n",
    "    print(var.name, \"=\", var.varValue)\n",
    "\n",
    "print(\"objective=\", value(prob.objective))\n"
   ]
  },
  {
   "cell_type": "code",
   "execution_count": 59,
   "metadata": {
    "collapsed": false
   },
   "outputs": [
    {
     "name": "stdout",
     "output_type": "stream",
     "text": [
      "Optimal\n",
      "p = 0.233333\n",
      "r = 0.433333\n",
      "s = 0.333333\n",
      "objective= 0.433333\n"
     ]
    }
   ],
   "source": [
    "# Safe Opp exploitation in RPS\n",
    "\n",
    "from pulp import *\n",
    "\n",
    "prob = LpProblem(\"esafe\", LpMaximize) \n",
    "\n",
    "# Variables\n",
    "r = LpVariable(\"r\", 0, 1)\n",
    "p = LpVariable(\"p\", 0, 1)\n",
    "s = LpVariable(\"s\", 0, 1)\n",
    "#v = LpVariable(\"v\", -1, 1)\n",
    "\n",
    "# maximin value of the game\n",
    "v = 0\n",
    "\n",
    "# ammount we're affording to risk in order to attempt exploitation\n",
    "epsilon = 0.1\n",
    "\n",
    "# Objective - suppose opponent modeller recommended 'r', we should maximize its probability\n",
    "prob += r\n",
    "\n",
    "# Constraints: we must ensure that loss <= epsilon\n",
    "# so v - expected_utility <= epsilon, then expected_utility <= v - epsilon\n",
    "# (expected_utility is based on the worst case)\n",
    "\n",
    "prob += +p - s  >= v - epsilon\n",
    "prob += -r + s  >= v - epsilon\n",
    "prob +=  r - p  >= v - epsilon\n",
    "prob +=  r + p + s == 1\n",
    "\n",
    "status = prob.solve(GLPK(msg = 0))\n",
    "\n",
    "print(LpStatus[status])\n",
    "\n",
    "# Solution\n",
    "for var in prob.variables():\n",
    "    print(var.name, \"=\", var.varValue)\n",
    "\n",
    "print(\"objective=\", value(prob.objective))"
   ]
  },
  {
   "cell_type": "code",
   "execution_count": null,
   "metadata": {
    "collapsed": true
   },
   "outputs": [],
   "source": [
    "# now we must generalize to a matrix form\n",
    "# take a look at: \n",
    "# http://pythonhosted.org/PuLP/main/amply.html\n",
    "# http://pythonhosted.org/PuLP/CaseStudies/a_blending_problem.html\n",
    "# http://pythonhosted.org/PuLP/CaseStudies/a_set_partitioning_problem.html\n",
    "from pulp import *\n",
    "\n",
    "prob = LpProblem(\"RPS matrix\", LpMaximize) \n",
    "\n",
    "# Variables\n",
    "# r, p, and s are the probabilities of playing rock, paper and scissors, respectively\n",
    "# v is the value of the game\n",
    "r = LpVariable(\"r\", 0, 1)\n",
    "p = LpVariable(\"p\", 0, 1)\n",
    "s = LpVariable(\"s\", 0, 1)\n",
    "v = LpVariable(\"v\", -1, 1)\n",
    "\n",
    "# Objective: maximize the value obtained\n",
    "prob += v\n",
    "\n",
    "# Constraints: defined via RPS matrix:\n",
    "'''\n",
    "   R  P  S\n",
    "r  0 -1  1\n",
    "p  1  0 -1\n",
    "s -1  1  0\n",
    "'''\n",
    "prob +=  p - s == v\n",
    "prob += -r + s == v\n",
    "prob +=  r - p == v\n",
    "prob += r + p + s == 1\n",
    "\n",
    "GLPK().solve(prob)\n",
    "\n",
    "# Solution\n",
    "for var in prob.variables():\n",
    "    print(var.name, \"=\", var.varValue)\n",
    "\n",
    "print(\"objective=\", value(prob.objective))"
   ]
  }
 ],
 "metadata": {
  "kernelspec": {
   "display_name": "Python 3",
   "language": "python",
   "name": "python3"
  },
  "language_info": {
   "codemirror_mode": {
    "name": "ipython",
    "version": 3
   },
   "file_extension": ".py",
   "mimetype": "text/x-python",
   "name": "python",
   "nbconvert_exporter": "python",
   "pygments_lexer": "ipython3",
   "version": "3.5.2"
  }
 },
 "nbformat": 4,
 "nbformat_minor": 2
}
